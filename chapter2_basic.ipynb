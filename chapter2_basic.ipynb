{
 "cells": [
  {
   "cell_type": "markdown",
   "id": "8c2cd126-867b-4e34-9b92-e11271d48361",
   "metadata": {},
   "source": [
    "# Concept Questions"
   ]
  },
  {
   "cell_type": "markdown",
   "id": "be5c7e50-f9ae-4e02-9e32-56ba4ad5591a",
   "metadata": {},
   "source": [
    "# Coding Questions for Chapter 2: Python Language Basics, IPython, and Jupyter Notebooks\n",
    "\n",
    "1. Create variables of each of Python's scalar types:\n",
    "    * Integer\n",
    "    * Floating-point number\n",
    "    * String\n",
    "    * Boolean\n",
    "\n",
    "2. Write Python code to demonstrate the following string operations:\n",
    "    * Concatenation\n",
    "    * Slicing to extract a substring\n",
    "    * Finding the index of a specific character\n",
    "    * Converting a string to uppercase\n",
    "\n",
    "3. Explain the difference between the / and // operators in Python. Provide code examples to illustrate their behavior.\n",
    "\n",
    "4. Write a Python function that takes a list of numbers as input and returns the sum of all the even numbers in the list. Use a for loop and conditional statements to achieve this.\n",
    "\n",
    "5. Demonstrate the usage of the if, elif, and else statements in Python to implement a simple decision-making logic based on user input.\n",
    "\n",
    "6. Write Python code using a while loop to calculate the factorial of a given number."
   ]
  },
  {
   "cell_type": "code",
   "execution_count": 12,
   "id": "431c39f9-2e8b-48fd-9cd7-44aefc9fb407",
   "metadata": {},
   "outputs": [],
   "source": [
    "import random  # create random number and randomly pick up or down\n",
    "import time  # constantly run the while loop with 1 sec in between"
   ]
  },
  {
   "cell_type": "code",
   "execution_count": 1,
   "id": "09861351-94b8-453f-a998-ec2fe545503f",
   "metadata": {},
   "outputs": [
    {
     "name": "stdout",
     "output_type": "stream",
     "text": [
      "<class 'int'> <class 'float'> <class 'str'> <class 'bool'>\n"
     ]
    }
   ],
   "source": [
    "# Question 1\n",
    "\n",
    "an_integer = 5\n",
    "a_floating_point_number = 3.14\n",
    "a_string = \"Rex\"\n",
    "a_boolean = True\n",
    "\n",
    "print(type(an_integer), type(a_floating_point_number), type(a_string), type(a_boolean))"
   ]
  },
  {
   "cell_type": "code",
   "execution_count": 3,
   "id": "a2eb2beb-b1b2-41f8-a680-29722d359d3a",
   "metadata": {},
   "outputs": [
    {
     "name": "stdout",
     "output_type": "stream",
     "text": [
      "Concatenation: This is an example string. This is another example string., Slicing: example, Index: 11, UpperCase: THIS IS AN EXAMPLE STRING.\n"
     ]
    }
   ],
   "source": [
    "# Question 2\n",
    "\n",
    "example_string = \"This is an example string.\"\n",
    "example_string_2 = \"This is another example string.\"\n",
    "\n",
    "# Concatenation\n",
    "concat_string = example_string + \" \" + example_string_2\n",
    "\n",
    "# Slicing to extract a substring (Target: example)\n",
    "target_string = example_string[11:18]\n",
    "\n",
    "# Finding the index of a specific character\n",
    "index_of_example = example_string.find(\"example\")\n",
    "\n",
    "# Converting a string to uppercase\n",
    "uppercase_string = example_string.upper()\n",
    "\n",
    "print(f\"Concatenation: {concat_string}, Slicing: {target_string}, Index: {index_of_example}, UpperCase: {uppercase_string}\")"
   ]
  },
  {
   "cell_type": "code",
   "execution_count": 6,
   "id": "f48e3384-a0b7-49c4-8aab-32fa6e96726e",
   "metadata": {},
   "outputs": [
    {
     "name": "stdout",
     "output_type": "stream",
     "text": [
      "The result of 9/5 is : 1.8; The result of 9 // 5 is 1\n",
      "slash operator gives the result without rounding it, while double slash operator gives the rounded results\n"
     ]
    }
   ],
   "source": [
    "# Question 3 \n",
    "\n",
    "slash = 9 / 5\n",
    "dobule_slash = 9 // 5\n",
    "\n",
    "print(f\"The result of 9/5 is : {slash}; The result of 9 // 5 is {dobule_slash}\")\n",
    "print(\"Answer: slash operator gives the result without rounding it, while double slash operator gives the rounded results\")"
   ]
  },
  {
   "cell_type": "code",
   "execution_count": 8,
   "id": "92f8fd3a-7093-44ad-9d21-4e9ad22759f9",
   "metadata": {},
   "outputs": [
    {
     "name": "stdout",
     "output_type": "stream",
     "text": [
      "the sum of even number: 20\n"
     ]
    }
   ],
   "source": [
    "# Question 4\n",
    "\n",
    "list_of_number = [i for i in range(10)]\n",
    "\n",
    "sum_of_even_number = 0\n",
    "\n",
    "for number in list_of_number:\n",
    "    if number % 2 == 0:\n",
    "        sum_of_even_number += number\n",
    "\n",
    "print(f\"the sum of even number: {sum_of_even_number}\")"
   ]
  },
  {
   "cell_type": "markdown",
   "id": "7dbad1af-4ff9-4866-8e96-14a59884870a",
   "metadata": {},
   "source": [
    "A problem description of question 5\n",
    "\n",
    "Here's a description of a basic trading logic condition that can be implemented with these statements:\n",
    "\n",
    "### Condition:\n",
    "* User Input: A user provides their prediction for the direction of a specific stock price. They input either \"up\" for an expected price increase or \"down\" for an expected decrease.\n",
    "* Current Price: The system retrieves the current price of the chosen stock.\n",
    "* Decision:\n",
    "    * If the user predicts \"up\" and the current price is above a predetermined threshold (indicating potential for further increase), the logic suggests buying the stock.\n",
    "    * Elif the user predicts \"down\" and the current price is below a predetermined threshold (suggesting a possible continued decline), the logic recommends selling the stock.\n",
    "    * Else, (if the user's prediction doesn't align with the current price relative to the thresholds), the logic suggests holding the stock or taking no action."
   ]
  },
  {
   "cell_type": "code",
   "execution_count": 15,
   "id": "4e7b2606-989b-4dc2-9a46-7e5fce00087e",
   "metadata": {
    "scrolled": true
   },
   "outputs": [
    {
     "name": "stdout",
     "output_type": "stream",
     "text": [
      "The current price is 3, your prediction is down, and the threshold is 50. Sell!\n",
      "Hold!\n",
      "The current price is 44, your prediction is down, and the threshold is 50. Sell!\n",
      "The current price is 71, your prediction is up, and the threshold is 50. Buy More!\n",
      "Hold!\n",
      "The current price is 11, your prediction is down, and the threshold is 50. Sell!\n",
      "The current price is 50, your prediction is down, and the threshold is 50. Sell!\n",
      "Hold!\n",
      "The current price is 81, your prediction is up, and the threshold is 50. Buy More!\n",
      "Hold!\n",
      "Hold!\n",
      "Hold!\n",
      "The current price is 72, your prediction is up, and the threshold is 50. Buy More!\n",
      "The current price is 89, your prediction is up, and the threshold is 50. Buy More!\n",
      "Hold!\n"
     ]
    },
    {
     "ename": "KeyboardInterrupt",
     "evalue": "",
     "output_type": "error",
     "traceback": [
      "\u001b[0;31m---------------------------------------------------------------------------\u001b[0m",
      "\u001b[0;31mKeyboardInterrupt\u001b[0m                         Traceback (most recent call last)",
      "Cell \u001b[0;32mIn[15], line 6\u001b[0m\n\u001b[1;32m      3\u001b[0m THRESHOLD \u001b[38;5;241m=\u001b[39m \u001b[38;5;241m50\u001b[39m\n\u001b[1;32m      5\u001b[0m \u001b[38;5;28;01mwhile\u001b[39;00m \u001b[38;5;28;01mTrue\u001b[39;00m:\n\u001b[0;32m----> 6\u001b[0m     \u001b[43mtime\u001b[49m\u001b[38;5;241;43m.\u001b[39;49m\u001b[43msleep\u001b[49m\u001b[43m(\u001b[49m\u001b[38;5;241;43m1\u001b[39;49m\u001b[43m)\u001b[49m\n\u001b[1;32m      7\u001b[0m     current_price \u001b[38;5;241m=\u001b[39m random\u001b[38;5;241m.\u001b[39mrandint(\u001b[38;5;241m0\u001b[39m, \u001b[38;5;241m100\u001b[39m)\n\u001b[1;32m      8\u001b[0m     user_prediction \u001b[38;5;241m=\u001b[39m random\u001b[38;5;241m.\u001b[39mchoice([\u001b[38;5;124m\"\u001b[39m\u001b[38;5;124mup\u001b[39m\u001b[38;5;124m\"\u001b[39m, \u001b[38;5;124m\"\u001b[39m\u001b[38;5;124mdown\u001b[39m\u001b[38;5;124m\"\u001b[39m])\n",
      "\u001b[0;31mKeyboardInterrupt\u001b[0m: "
     ]
    }
   ],
   "source": [
    "# Question 5\n",
    "\n",
    "# user_prediction = input(\"Please enter your prediciton (up or down)\").lower()\n",
    "\n",
    "THRESHOLD = 50\n",
    "\n",
    "while True:\n",
    "    time.sleep(1)\n",
    "    current_price = random.randint(0, 100)\n",
    "    user_prediction = random.choice([\"up\", \"down\"])\n",
    "    # logic\n",
    "    if user_prediction == \"up\" and current_price >= THRESHOLD:\n",
    "        print(f\"The current price is {current_price}, your prediction is {user_prediction}, and the threshold is {THRESHOLD}. Buy More!\")\n",
    "    elif user_prediction == \"down\" and current_price <= THRESHOLD:\n",
    "        print(f\"The current price is {current_price}, your prediction is {user_prediction}, and the threshold is {THRESHOLD}. Sell!\")\n",
    "    else:\n",
    "        print(\"Hold!\")"
   ]
  },
  {
   "cell_type": "code",
   "execution_count": 26,
   "id": "8aec82a2-6549-4d2c-b709-1f7c263297cf",
   "metadata": {},
   "outputs": [
    {
     "data": {
      "text/plain": [
       "120"
      ]
     },
     "execution_count": 26,
     "metadata": {},
     "output_type": "execute_result"
    }
   ],
   "source": [
    "# Question 6\n",
    "\n",
    "def calculate_factorial (n):\n",
    "    if n == 0:\n",
    "        return 1\n",
    "    factorial = 1\n",
    "    for number in range(1, n + 1):\n",
    "        factorial *= number\n",
    "    return factorial\n",
    "\n",
    "calculate_factorial(5)\n",
    "    "
   ]
  },
  {
   "cell_type": "code",
   "execution_count": null,
   "id": "29383c82-118d-48c8-8861-566e53ef1900",
   "metadata": {},
   "outputs": [],
   "source": []
  }
 ],
 "metadata": {
  "kernelspec": {
   "display_name": "Python 3 (ipykernel)",
   "language": "python",
   "name": "python3"
  },
  "language_info": {
   "codemirror_mode": {
    "name": "ipython",
    "version": 3
   },
   "file_extension": ".py",
   "mimetype": "text/x-python",
   "name": "python",
   "nbconvert_exporter": "python",
   "pygments_lexer": "ipython3",
   "version": "3.12.4"
  }
 },
 "nbformat": 4,
 "nbformat_minor": 5
}
