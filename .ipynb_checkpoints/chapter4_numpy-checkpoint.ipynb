{
 "cells": [
  {
   "cell_type": "code",
   "execution_count": 1,
   "id": "d9f79ad9-e9cd-4b54-b237-cb92b42f376a",
   "metadata": {},
   "outputs": [],
   "source": [
    "import numpy as np"
   ]
  },
  {
   "cell_type": "markdown",
   "id": "54206216-6d97-4e42-8c16-053ad3cacaa5",
   "metadata": {},
   "source": [
    "## Introduction\n",
    "\n",
    "* What is a NumPy ndarray?\n",
    "  * A NumPy ndarray is a multidimensional array object that is the core data structure of the NumPy library. It's designed for efficient storage and manipulation of numerical data. All elements in an ndarray must be of the same data type, specified by the dtype attribute.\n",
    " \n",
    "* What is the difference between NumPy and standard Python?\n",
    "\n",
    "* What are the pros and cons?\n",
    "  * Pros\n",
    "    * Efficient numerical computations due to vectorized operations.\n",
    "    * Homogeneous data type for memory efficiency.\n",
    "    * Fast indexing and slicing capabilities.\n",
    "    * Support for linear algebra and other mathematical functions.\n",
    "  * Cons\n",
    "    * Fixed size after creation.\n",
    "    * Requires all elements to be the same data type.\n",
    "\n",
    "* When do you use it?\n",
    "  * When you need to perform numerical computations efficiently on large datasets, especially in data analysis, scientific computing, and machine learning. It is used when dealing with arrays, matrices, and other numerical data structures.\n",
    " \n",
    "\n",
    "### Coding Question:\n",
    "* Create a 1D NumPy array\n",
    "* Create a 2D NumPy array\n",
    "* Create a 3x3 NumPy ndarray named my_array with random integers between 1 and 10. Print its shape, data type, and the maximum and minimum values in the array.\n",
    "\n",
    "### Conceptual Questions:\n",
    "* Why is an ndarray more suitable for numerical computations than a standard Python list?\n",
    "  * Because ndarrays support vectorized operations and are more memory efficient due to their homogeneous data type. Python lists do not support vectorized operations without looping.\n",
    "\n",
    "* What is the significance of the dtype attribute in an ndarray?\n",
    "  * The dtype specifies the data type of the elements and ensures efficient storage and computation by allowing NumPy to handle memory in a more performant manner."
   ]
  },
  {
   "cell_type": "code",
   "execution_count": 8,
   "id": "9aeeb2f6-4814-497f-b738-3605d386b616",
   "metadata": {},
   "outputs": [
    {
     "name": "stdout",
     "output_type": "stream",
     "text": [
      "Array: \n",
      " [1 2 3]\n",
      "Shape:  (3,)\n",
      "Data Type:  int64\n",
      "Maximum Value: 3\n",
      "Minimum Value: 1\n",
      "Array Dimension: 1\n",
      "Array: \n",
      " [[1 2 3]\n",
      " [4 5 6]]\n",
      "Shape:  (2, 3)\n",
      "Data Type:  int64\n",
      "Maximum Value: 6\n",
      "Minimum Value: 1\n",
      "Array Dimension: 2\n",
      "Array: \n",
      " [[ 4  6  8]\n",
      " [ 3 10  7]\n",
      " [ 2  8  9]]\n",
      "Shape:  (3, 3)\n",
      "Data Type:  int64\n",
      "Maximum Value: 10\n",
      "Minimum Value: 2\n",
      "Array Dimension: 2\n"
     ]
    }
   ],
   "source": [
    "# Create\n",
    "my_array1D = np.array([1, 2, 3])\n",
    "\n",
    "print(\"Array: \\n\", my_array1D)\n",
    "print(\"Shape: \", my_array1D.shape)\n",
    "print(\"Data Type: \", my_array1D.dtype)\n",
    "print(\"Maximum Value:\", np.max(my_array1D))\n",
    "print(\"Minimum Value:\", np.min(my_array1D))\n",
    "print(\"Array Dimension:\", my_array1D.ndim)\n",
    "\n",
    "my_array2D = np.array([[1, 2, 3], [4, 5 ,6]])\n",
    "\n",
    "print(\"Array: \\n\", my_array2D)\n",
    "print(\"Shape: \", my_array2D.shape)\n",
    "print(\"Data Type: \", my_array2D.dtype)\n",
    "print(\"Maximum Value:\", np.max(my_array2D))\n",
    "print(\"Minimum Value:\", np.min(my_array2D))\n",
    "print(\"Array Dimension:\", my_array2D.ndim)\n",
    "\n",
    "\n",
    "# Create a 3x3 NumPy ndarray named my_array with random integers between 1 and 10. Print its shape, data type, and the maximum and minimum values in the array.\n",
    "my_array = np.random.randint(1, 11, size=(3, 3))\n",
    "\n",
    "print(\"Array: \\n\", my_array)\n",
    "print(\"Shape: \", my_array.shape)\n",
    "print(\"Data Type: \", my_array.dtype)\n",
    "print(\"Maximum Value:\", np.max(my_array))\n",
    "print(\"Minimum Value:\", np.min(my_array))\n",
    "print(\"Array Dimension:\", my_array.ndim)"
   ]
  },
  {
   "cell_type": "markdown",
   "id": "4a60baff-222d-4fe2-972d-2dc15ebc6b4b",
   "metadata": {},
   "source": [
    "## Vectorized Operations\n",
    "\n",
    "* What are vectorized operations in NumPy?\n",
    "  * Vectorized operations are operations applied to entire NumPy arrays without writing explicit loops. They enable *efficient element-wise computation*. (記得 shape 要相容 (3, 1) + (1, 3))\n",
    " \n",
    "\n",
    "* What are the pros and cons?\n",
    "  * Pros\n",
    "    * Significant performance improvement over using loops in Python.\n",
    "    * More concise and readable code.\n",
    "    * Leverages optimized low-level implementations.\n",
    "  * Cons\n",
    "    * Can be less intuitive to write for complex operations that cannot be easily vectorized.\n",
    "\n",
    "* When do you use it?\n",
    "  * Whenever you need to perform element-wise computations on arrays, such as arithmetic, mathematical, and logical operations. This is a core practice for all NumPy array calculations.\n",
    " \n",
    "\n",
    "### Coding Question:\n",
    "* Create two NumPy arrays, arr1 and arr2, both of shape (5,). Calculate the element-wise addition, subtraction, multiplication, and division of these arrays using vectorized operations.\n",
    "\n",
    "\n",
    "### Conceptual Questions:\n",
    "* Why are vectorized operations more efficient than using loops in Python for numerical computations?\n",
    "  * Vectorized operations are implemented in optimized low-level code, avoiding Python's interpreter overhead. Loops in Python are significantly slower than NumPy's vectorized operations.\n",
    "\n",
    "* How can vectorized operations improve the readability and maintainability of your code?\n",
    "  * Vectorized operations allow you to express computations concisely, making the code easier to understand and modify."
   ]
  },
  {
   "cell_type": "code",
   "execution_count": 10,
   "id": "e94ef4ef-180d-4620-b968-22dc42d1103f",
   "metadata": {},
   "outputs": [
    {
     "name": "stdout",
     "output_type": "stream",
     "text": [
      "[1, 2, 3, 4, 5, 6]\n",
      "[5 7 9]\n"
     ]
    }
   ],
   "source": [
    "# Demo\n",
    "# element-wise computation - python list\n",
    "print([1, 2, 3] + [4, 5, 6])\n",
    "\n",
    "# element-wise computation - NumPy\n",
    "print(np.array([1, 2, 3]) + np.array([4, 5, 6]))"
   ]
  },
  {
   "cell_type": "code",
   "execution_count": 20,
   "id": "d51bc59a-26af-4fa6-b61f-ae3956c34c9d",
   "metadata": {},
   "outputs": [
    {
     "name": "stdout",
     "output_type": "stream",
     "text": [
      "Array1: \n",
      " [ 2 76 15 90 45]\n",
      "Array2: \n",
      " [93 58 33 30 28]\n",
      "Addition:  [ 95 134  48 120  73]\n",
      "Subtraction:  [-91  18 -18  60  17]\n",
      "Multiplication:  [ 186 4408  495 2700 1260]\n",
      "Division:  [0.02150538 1.31034483 0.45454545 3.         1.60714286]\n"
     ]
    }
   ],
   "source": [
    "# Create two NumPy arrays, arr1 and arr2, both of shape (5,). Calculate the element-wise addition, subtraction, multiplication, and division of these arrays using vectorized operations.\n",
    "\n",
    "arr1 = np.random.randint(0, 100, size=(5, ))\n",
    "arr2 = np.random.randint(0, 100, size=(5, ))\n",
    "\n",
    "print(\"Array1: \\n\", arr1)\n",
    "print(\"Array2: \\n\", arr2)\n",
    "print(\"Addition: \", arr1 + arr2)\n",
    "print(\"Subtraction: \", arr1 - arr2)\n",
    "print(\"Multiplication: \", arr1 * arr2)\n",
    "print(\"Division: \", arr1 / arr2)"
   ]
  },
  {
   "cell_type": "markdown",
   "id": "9e535a32-2cd2-4a26-bcac-742acdafa851",
   "metadata": {},
   "source": [
    "## Boolean Indexing\n",
    "\n",
    "* What is boolean indexing in NumPy?\n",
    "  * Boolean indexing uses a boolean array (mask) to select elements from a NumPy array based on specified conditions.\n",
    "\n",
    "* What are the pros and cons?\n",
    "  * Pros (Boolean indexing saves time, improves code clarity, and handles large datasets efficiently.)\n",
    "    * Flexible and efficient data filtering.\n",
    "    * Clear and concise way to express data selection.\n",
    "  * Cons\n",
    "    * Requires creating a boolean array, which may take additional memory.\n",
    "\n",
    "* When do you use it?\n",
    "  * When you need to select or filter specific elements from an array based on certain conditions. This technique is widely used when cleaning and processing data.\n",
    "  * Data Filtering\n",
    "    * Use boolean conditions to filter out unwanted or invalid data, such as selecting values that meet a certain threshold\n",
    "    * Example: Filtering all temperatures above 30°C in climate data.\n",
    "  * Data Cleaning\n",
    "    * Identify and handle missing values, outliers, or incorrect data using boolean masks\n",
    "    * Example: Setting invalid data points (e.g., negative age values) to NaN or excluding them.\n",
    "  * Feature Selection in Machine Learning\n",
    "    * Use boolean indexing to extract rows or columns that meet specific conditions.\n",
    "    * Example: Selecting samples with labels or features that satisfy a criterion.\n",
    "  * Efficient Operations\n",
    "    * Instead of writing slow loops, boolean indexing lets you perform operations on specific subsets of data efficiently using NumPy’s optimized array operations.\n",
    " \n",
    "\n",
    "### Coding Question:\n",
    "* Create a NumPy array named my_array of 20 random numbers. Use boolean indexing to create a new array named filtered_array containing only the values greater than 0.5. Also, calculate how many of the values in the original array are greater than 0.5 using the sum method.\n",
    "\n",
    "### Conceptual Questions:\n",
    "* How can boolean indexing help in cleaning and pre-processing data?\n",
    "  * Boolean indexing can be used to easily identify and remove invalid or outlier data. This makes data cleaning much easier to implement.\n",
    "\n",
    "* Why is boolean indexing more efficient for data filtering than using loops?\n",
    "  * Boolean indexing operates directly on the array, using optimized low-level implementations, which is more efficient than using loops in Python."
   ]
  },
  {
   "cell_type": "code",
   "execution_count": 24,
   "id": "fe21c6a3-f6e2-438d-8496-28b5549f707e",
   "metadata": {},
   "outputs": [
    {
     "name": "stdout",
     "output_type": "stream",
     "text": [
      "Original Array:\n",
      " [0.62261092 0.40563352 0.00937596 0.61674144 0.09075599 0.42716926\n",
      " 0.48076599 0.39251715 0.18754434 0.6341253  0.33284906 0.72073806\n",
      " 0.19892235 0.4055414  0.14665279 0.83493904 0.88315604 0.70813899\n",
      " 0.9694146  0.05374326]\n",
      "\n",
      "Filtered Array (values > 0.5):\n",
      " [0.62261092 0.61674144 0.6341253  0.72073806 0.83493904 0.88315604\n",
      " 0.70813899 0.9694146 ]\n",
      "\n",
      "Number of values greater than 0.5: 8\n"
     ]
    }
   ],
   "source": [
    "# Create a NumPy array named my_array of 20 random numbers. Use boolean indexing to create a new array named filtered_array containing only the values greater than 0.5. Also, calculate how many of the values in the original array are greater than 0.5 using the sum method.\n",
    "\n",
    "# Create a NumPy array of 20 random numbers between 0 and 1\n",
    "my_array = np.random.rand(20)\n",
    "\n",
    "# Use boolean indexing to filter values greater than 0.5\n",
    "filtered_array = my_array[my_array > 0.5]\n",
    "\n",
    "# Calculate how many values are greater than 0.5 using the sum method\n",
    "count = (my_array > 0.5).sum()\n",
    "\n",
    "print(\"Original Array:\\n\", my_array)\n",
    "print(\"\\nFiltered Array (values > 0.5):\\n\", filtered_array)\n",
    "print(\"\\nNumber of values greater than 0.5:\", count)"
   ]
  },
  {
   "cell_type": "code",
   "execution_count": 35,
   "id": "889f763e-d3da-4061-a010-050f96ebc806",
   "metadata": {},
   "outputs": [
    {
     "name": "stdout",
     "output_type": "stream",
     "text": [
      "Filtered Transactions: {'client2': 1200, 'client3': 800, 'client5': 1300}\n"
     ]
    }
   ],
   "source": [
    "# Suppose we have a dictionary of clientID and their transaction amount. We want to filter out the data of transaction amount below 500.\n",
    "\n",
    "transactions = {\n",
    "    \"client1\": 150,\n",
    "    \"client2\": 1200,\n",
    "    \"client3\": 800,\n",
    "    \"client4\": 50,\n",
    "    \"client5\": 1300\n",
    "}\n",
    "\n",
    "# Convert to NumPy arrays\n",
    "client_ids = np.array(list(transactions.keys()))\n",
    "transaction_amounts = np.array(list(transactions.values()))\n",
    "\n",
    "# Apply boolean indexing: filtering transactions > $500\n",
    "filtered_indices = transaction_amounts > 500\n",
    "filtered_clients = client_ids[filtered_indices]\n",
    "filtered_amounts = transaction_amounts[filtered_indices]\n",
    "\n",
    "# Combine filtered results into a new dictionary\n",
    "filtered_transactions = dict(zip(filtered_clients.tolist(), filtered_amounts.tolist()))\n",
    "print(\"Filtered Transactions:\", filtered_transactions)"
   ]
  },
  {
   "cell_type": "markdown",
   "id": "dd085d5a-beb5-4b90-920d-a75c41c0d8f4",
   "metadata": {},
   "source": [
    "## Indexing and Slicing\n",
    "\n",
    "### Coding Question\n",
    "* Extract the second row.\n",
    "* Extract the first column.\n",
    "* Extract the element in the third row and second column.\n",
    "* Extract a subarray containing the first two rows and last two columns.\n",
    "\n",
    "### Explanation\n",
    "* array[n]: return nth row\n",
    "* array[n:m]: return n to (m - 1)th row\n",
    "* array[n][m]: return the element at nth row and mth column\n",
    "* array[n, m]: return the list in nth row and mth column\n",
    "* array[n:, m:]: return all rows and columns starting from nth row and mth column"
   ]
  },
  {
   "cell_type": "code",
   "execution_count": 52,
   "id": "64f86498-9991-4b07-beb9-fb3500a2e9c5",
   "metadata": {},
   "outputs": [
    {
     "name": "stdout",
     "output_type": "stream",
     "text": [
      "Second row:  [4 5 6]\n",
      "First column:  [1 4 7]\n",
      "Element at (3, 2): 8\n",
      "Subarray: \n",
      " [[2 3]\n",
      " [5 6]]\n"
     ]
    }
   ],
   "source": [
    "array = np.array([[1, 2, 3], [4, 5, 6], [7, 8, 9]])\n",
    "print(\"Second row: \", array[1])\n",
    "print(\"First column: \", array[:, 0])\n",
    "print(\"Element at (3, 2):\", array[2][1])\n",
    "print(\"Subarray: \\n\", array[0:2, 1:])"
   ]
  },
  {
   "cell_type": "markdown",
   "id": "118bb482-3867-41ff-9e8e-47f6370b9ccb",
   "metadata": {},
   "source": [
    "## Universal Functions (ufuncs)\n",
    "\n",
    "* What are universal functions (ufuncs) in NumPy?\n",
    "  * Universal functions are functions that perform *element-wise operations* on NumPy arrays.\n",
    "\n",
    "* What are the pros and cons?\n",
    "  * Pros\n",
    "    * Highly efficient for element-wise operations.\n",
    "    * Can be used on arrays of any shape.\n",
    "    * Concise syntax for common operations.\n",
    "  * Cons\n",
    "    * May not be as flexible for operations that require multiple elements at a time.\n",
    "\n",
    "* When do you use it?\n",
    "  * When you need to apply a mathematical or logical function to every element of an array, such as square roots, exponents, or trigonometric functions.\n",
    "\n",
    "### Coding Question:\n",
    "\n",
    "* Create a NumPy array of 10 values. Calculate the square root and the exponential of each element using ufuncs.\n",
    "\n",
    "\n",
    "### Conceptual Questions:\n",
    "\n",
    "* How do ufuncs contribute to the efficiency of NumPy?\n",
    "  * ufuncs are implemented using optimized low-level code, which makes them faster than similar operations done using Python loops.\n",
    "\n",
    "* What are some common use cases for ufuncs in data analysis?\n",
    "  * ufuncs are used for transforming data, such as scaling values, taking logarithms, or applying trigonometric functions to features of your data set."
   ]
  },
  {
   "cell_type": "code",
   "execution_count": 53,
   "id": "71fc43ce-6799-41de-858b-ad23865e0744",
   "metadata": {},
   "outputs": [
    {
     "name": "stdout",
     "output_type": "stream",
     "text": [
      "Original Array: [ 1  2  3  4  5  6  7  8  9 10]\n",
      "Square Roots: [1.         1.41421356 1.73205081 2.         2.23606798 2.44948974\n",
      " 2.64575131 2.82842712 3.         3.16227766]\n",
      "Exponentials: [2.71828183e+00 7.38905610e+00 2.00855369e+01 5.45981500e+01\n",
      " 1.48413159e+02 4.03428793e+02 1.09663316e+03 2.98095799e+03\n",
      " 8.10308393e+03 2.20264658e+04]\n"
     ]
    }
   ],
   "source": [
    "# Create a Numpy array with 10 values\n",
    "values = np.array([1, 2, 3, 4, 5, 6, 7, 8, 9, 10])\n",
    "\n",
    "# Calcuate the square root of each element\n",
    "square_roots = np.sqrt(values)\n",
    "\n",
    "# Calculate the exponential of each element\n",
    "exponentials = np.exp(values)\n",
    "\n",
    "print(\"Original Array:\", values)\n",
    "print(\"Square Roots:\", square_roots)\n",
    "print(\"Exponentials:\", exponentials)"
   ]
  },
  {
   "cell_type": "markdown",
   "id": "374243e4-617c-4d52-9e91-1f63b3c0ae8e",
   "metadata": {},
   "source": [
    "## Array Transposition\n",
    "\n",
    "* What is array transposition in NumPy?\n",
    "  * Array transposition is the process of swapping the rows and columns of a NumPy array.\n",
    "\n",
    "* What are the pros and cons?\n",
    "  * Pros\n",
    "    * Useful for reshaping data for linear algebra and other operations.\n",
    "    * Provides a view rather than a copy of the original array, saving memory.\n",
    "  * Cons\n",
    "    * Can alter data layout, potentially leading to non-contiguous arrays.\n",
    "\n",
    "* When do you use it?\n",
    "  * When you need to change the orientation of your data. This can occur when preparing data for linear algebra operations or when needing to switch rows to columns.\n",
    "\n",
    "### Coding Question:\n",
    "* Create a 2x4 NumPy array and calculate its transpose using the .T attribute.\n",
    "\n",
    "### Conceptual Questions:\n",
    "\n",
    "* Why is transposition useful in the context of linear algebra?\n",
    "  * Transposition is often needed to align the dimensions of arrays for linear algebra operations such as matrix multiplication.\n",
    "\n",
    "* How does the transpose operation avoid making a copy of the data?\n",
    "  * Transpose returns a view of the underlying data, not a copy. This improves efficiency, especially when working with large arrays."
   ]
  },
  {
   "cell_type": "code",
   "execution_count": 56,
   "id": "63128d74-3af0-4159-ae7a-fe6e60711638",
   "metadata": {},
   "outputs": [
    {
     "name": "stdout",
     "output_type": "stream",
     "text": [
      "Original Array (2x4):\n",
      "[[1 2 3 4]\n",
      " [5 6 7 8]]\n",
      "\n",
      "Transposed Array (4x2):\n",
      "[[1 2]\n",
      " [3 4]\n",
      " [5 6]\n",
      " [7 8]]\n"
     ]
    }
   ],
   "source": [
    "my_array = np.array([[1, 2, 3, 4],\n",
    "                     [5, 6, 7, 8]])\n",
    "transposed_array = my_array.T\n",
    "\n",
    "print(\"Original Array (2x4):\")\n",
    "print(my_array)\n",
    "print(\"\\nTransposed Array (4x2):\")\n",
    "print(transposed_array)"
   ]
  },
  {
   "cell_type": "code",
   "execution_count": null,
   "id": "406abd5d-62e2-40a4-b128-8a30edcff999",
   "metadata": {},
   "outputs": [],
   "source": []
  }
 ],
 "metadata": {
  "kernelspec": {
   "display_name": "Python 3 (ipykernel)",
   "language": "python",
   "name": "python3"
  },
  "language_info": {
   "codemirror_mode": {
    "name": "ipython",
    "version": 3
   },
   "file_extension": ".py",
   "mimetype": "text/x-python",
   "name": "python",
   "nbconvert_exporter": "python",
   "pygments_lexer": "ipython3",
   "version": "3.12.4"
  }
 },
 "nbformat": 4,
 "nbformat_minor": 5
}
