{
 "cells": [
  {
   "cell_type": "markdown",
   "id": "2703eeb2-be74-4b1e-b10a-a5a1aabf21b6",
   "metadata": {},
   "source": [
    "Chapter 5 of \"Python for Data Analysis\" introduces the pandas library and its fundamental data structures, along with essential functionalities for data manipulation. \n",
    "\n",
    "## Introduction to pandas Data Structures:\n",
    "* Series: A *one-dimensional* labeled array capable of holding any data type. Series can be created from lists, NumPy arrays, or dictionaries, and their labels (the index) allow for easy data access and alignment.\n",
    "\n",
    "* DataFrame: A *two-dimensional* table-like structure with labeled rows and columns, capable of holding heterogeneous data. DataFrames can be created from dictionaries of lists or NumPy arrays, and are a fundamental structure for data analysis in pandas. While physically two-dimensional, they can also represent higher dimensional data using hierarchical indexing.\n",
    "\n",
    "* Index Objects: The labels for the rows and columns in pandas, which are essential for data alignment and access. Index objects are immutable and have methods and properties for set logic, which help answer questions about the data they contain\n",
    "\n",
    "## Exercise\n",
    "* Concept Question: What is the primary difference between a pandas Series and a pandas DataFrame, and in what scenarios would you prefer one over the other?\n",
    "  * A pandas Series is 1D, and a pandas DataFrame is 2D.\n",
    "  * Use Series when working with a single variable or column of data, and prefer a DataFrame when managing multiple related variables or columns.\n",
    "\n",
    "* Coding Question 1: Create a pandas Series named my_series with the following data and labels: Data:, Labels: ['a', 'b', 'c', 'd', 'e']. Then, access the element with the label 'c'.\n",
    "\n",
    "* Coding Question 2: Create a pandas DataFrame named my_df from the following dictionary: {'col1':, 'col2':, 'col3':}. Then, add a new column named col4 with the values.\n"
   ]
  },
  {
   "cell_type": "code",
   "execution_count": 1,
   "id": "916fb547-9534-4b43-b708-d59cef3ba20b",
   "metadata": {},
   "outputs": [],
   "source": [
    "import pandas as pd"
   ]
  },
  {
   "cell_type": "code",
   "execution_count": 8,
   "id": "15e62649-45cd-4e2d-9e98-e8f43c873dc8",
   "metadata": {},
   "outputs": [],
   "source": [
    "my_series = pd.Series(data=[10, 20, 30, 40, 50], index=['a', 'b', 'c', 'd', 'e'])\n",
    "my_df = pd.DataFrame(data={\"name\": [\"Rex\", \"Dita\"], \"age\": [24, 21], \"gender\": [\"male\", \"female\"]})"
   ]
  },
  {
   "cell_type": "markdown",
   "id": "a2ca25a3-782f-41e2-9cc4-02ad96a15243",
   "metadata": {},
   "source": [
    "#### Lesson Learned\n",
    "##### KeyError: 0\n",
    "* Explanation: my_df[0] => KeyError: 0 Because when I try to access my_df[0], Pandas attemptps to look for a column with the label 0, which does not exist. DataFrames are primarily indexed by columns, so accessing rows requires specific methods.\n",
    "* Solution:\n",
    "  * .loc[] for *label-based indexing*: Use .loc to access rows based on their *index labels*. If the DataFrame *index is numeric* and I want the first row - my_df.loc[0]  # Access the row with index label 0\n",
    "  * .iloc[] for *position-based indexing*: Use .iloc to access rows based on their *integer position* in the DataFrame. - my_df.iloc[0] # Access the first row (0th position)\n"
   ]
  },
  {
   "cell_type": "code",
   "execution_count": 24,
   "id": "42de70ec-221f-4503-96d7-3a434dcfe9f7",
   "metadata": {},
   "outputs": [
    {
     "name": "stdout",
     "output_type": "stream",
     "text": [
      "a    10\n",
      "b    20\n",
      "c    30\n",
      "d    40\n",
      "e    50\n",
      "f     0\n",
      "g   -10\n",
      "h   -20\n",
      "dtype: int64\n"
     ]
    }
   ],
   "source": [
    "# Access to the data\n",
    "\n",
    "# my_series['c']\n",
    "# my_df.iloc[0]\n",
    "\n",
    "# Add more data to a Series\n",
    "my_series_2 = pd.Series([0, -10, -20], index=[\"f\", \"g\", \"h\"])\n",
    "combined_series = pd.concat([my_series, my_series_2])\n",
    "print(combined_series)\n",
    "\n",
    "# Add more data to a DataFrame\n",
    "address = [\"Utrecht\", \"Den Haag\"]\n",
    "my_df[\"address\"] = address"
   ]
  },
  {
   "cell_type": "markdown",
   "id": "302a3f48-aa6d-424c-a0f0-662122af21d9",
   "metadata": {},
   "source": [
    "## Essential Functionality:\n",
    "* Reindexing: Creating a new object with data conformed to a new index. *This allows for changing the order of the data, adding missing values, or removing elements*. \n",
    "* Dropping Entries from an Axis: Removing rows or columns from a Series or DataFrame.\n",
    "* Indexing, Selection, and Filtering: Selecting subsets of data from Series or DataFrames using labels, positions, or boolean arrays. This includes using the loc and iloc operators.\n",
    "* Integer Indexes: Understanding how integer indexes are handled in pandas, which can differ from standard Python indexing.\n",
    "* Arithmetic and Data Alignment: Performing arithmetic operations between Series or DataFrames and how pandas automatically aligns data based on labels and how to use fill values.\n",
    "* Function Application and Mapping: Applying functions to data in Series or DataFrames using methods like apply and map.\n",
    "* Sorting and Ranking: Sorting data in Series or DataFrames by index or column values and assigning ranks to values.\n",
    "* Axis Indexes with Duplicate Labels: Understanding how pandas handles data with duplicate index labels.\n",
    "\n",
    "## Exercise\n",
    "\n",
    "* Concept Question: Explain the purpose of reindexing in pandas. Provide an example where reindexing is necessary.\n",
    "* Coding Question 1: Given a pandas Series named sales with index ['Mon', 'Wed', 'Fri'], reindex it to [\"Mon\", \"Tue\", \"Wed\", \"Thu\", \"Fri\", \"Sat\", \"Sun\"] and fill any missing values with 0.\n",
    "* Coding Question 2: Create a pandas DataFrame named df with columns named 'A', 'B', and 'C'. Drop the column labeled 'B'.\n",
    "\n",
    "* Concept Question: How does pandas handle arithmetic operations when performing addition between two Series with different index labels? What about when operating on a DataFrame?\n",
    "* Coding Question 1: Given two pandas Series, s1 with index ['a', 'b', 'c'] and values and s2 with index ['b', 'c', 'd'] and values, add them together, and replace missing values with 0.\n",
    "* Coding Question 2: Create two pandas DataFrames with some different index labels, named df1 and df2, then add them together.\n",
    "\n",
    "* Concept Question: Describe the difference between the apply and map methods for pandas Series, and where you might use them in data processing.\n",
    "* Coding Question 1: Given a pandas Series named series, apply a lambda function to each element that multiplies it by 2 using the apply method.\n",
    "* Coding Question 2: Given the pandas series named series, create a mapping using a dictionary such that every 1 is replaced by 'a', 2 by 'b', 3 by 'c'. Use this mapping to transform the series using the map method.\n",
    "\n",
    "* Concept Question: What is the difference between sorting by index labels versus sorting by column values in a DataFrame?\n",
    "* Coding Question 1: Given a DataFrame df, sort it by its index labels in descending order.\n",
    "* Coding Question 2: Given the same DataFrame df, sort it by the values in column 'A' in ascending order, while handling any missing values by putting them at the end.\n",
    "\n",
    "* Concept Question: What challenges arise when dealing with duplicate labels in a DataFrame's index, and how does pandas allow to deal with it?\n",
    "* Coding Question 1: Create a DataFrame df with duplicate index labels: pd.DataFrame({'A':}, index = ['a', 'a', 'b', 'b']). Then, select the rows with label 'a'.\n",
    "* Coding Question 2: How would you get the sum of values for each unique index, given the previous DataFrame?\n"
   ]
  },
  {
   "cell_type": "code",
   "execution_count": 33,
   "id": "26719c7b-8975-46b6-ae5a-accc9d637c36",
   "metadata": {},
   "outputs": [
    {
     "name": "stdout",
     "output_type": "stream",
     "text": [
      "Original DataFrame:\n",
      "        Product  Price  Quantity\n",
      "Store1       A     50       100\n",
      "Store2       B     30       150\n",
      "Store3       C     20       200\n",
      "Reindexed Series:\n",
      "        Product  Price  Quantity\n",
      "Store1       A     50       100\n",
      "Store2       B     30       150\n",
      "Store3       C     20       200\n",
      "Store4       0      0         0\n",
      "Reindexed DataFrame (Columns):\n",
      "        Product  Price  Quantity  Discount\n",
      "Store1       A     50       100         0\n",
      "Store2       B     30       150         0\n",
      "Store3       C     20       200         0\n"
     ]
    }
   ],
   "source": [
    "# Reindexing for Series\n",
    "sales = pd.Series([200, 300, 400], index=[\"Mon\", \"Wed\", \"Fri\"])\n",
    "new_index = [\"Mon\", \"Tue\", \"Wed\", \"Thu\", \"Fri\", \"Sat\", \"Sun\"]\n",
    "reindexed_sales = sales.reindex(new_index, fill_value = 0)\n",
    "\n",
    "# Reindexing for DataFrame (New index for rows; New index for columns)\n",
    "data = {\n",
    "    \"Product\": [\"A\", \"B\", \"C\"],\n",
    "    \"Price\": [50, 30, 20],\n",
    "    \"Quantity\": [100, 150, 200]\n",
    "}\n",
    "df = pd.DataFrame(data, index=[\"Store1\", \"Store2\", \"Store3\"])\n",
    "print(\"Original DataFrame:\\n\", df)\n",
    "\n",
    "new_index = [\"Store1\", \"Store2\", \"Store3\", \"Store4\"]\n",
    "reindexed_df_rows = df.reindex(new_index, fill_value=0)\n",
    "print(\"Reindexed Series:\\n\", reindexed_sales)\n",
    "\n",
    "\n",
    "new_columns = [\"Product\", \"Price\", \"Quantity\", \"Discount\"]\n",
    "reindexed_df_cols = df.reindex(columns=new_columns, fill_value=0)\n",
    "print(\"Reindexed DataFrame (Columns):\\n\", reindexed_df_cols)"
   ]
  },
  {
   "cell_type": "code",
   "execution_count": 38,
   "id": "6591de48-c28b-49a5-aab1-d1fc18f79bf6",
   "metadata": {},
   "outputs": [
    {
     "data": {
      "text/html": [
       "<div>\n",
       "<style scoped>\n",
       "    .dataframe tbody tr th:only-of-type {\n",
       "        vertical-align: middle;\n",
       "    }\n",
       "\n",
       "    .dataframe tbody tr th {\n",
       "        vertical-align: top;\n",
       "    }\n",
       "\n",
       "    .dataframe thead th {\n",
       "        text-align: right;\n",
       "    }\n",
       "</style>\n",
       "<table border=\"1\" class=\"dataframe\">\n",
       "  <thead>\n",
       "    <tr style=\"text-align: right;\">\n",
       "      <th></th>\n",
       "      <th>Song Title</th>\n",
       "      <th>Singer</th>\n",
       "      <th>Year</th>\n",
       "      <th>Genre</th>\n",
       "    </tr>\n",
       "  </thead>\n",
       "  <tbody>\n",
       "    <tr>\n",
       "      <th>1</th>\n",
       "      <td>Blinding Lights</td>\n",
       "      <td>The Weeknd</td>\n",
       "      <td>2019</td>\n",
       "      <td>Synthpop</td>\n",
       "    </tr>\n",
       "    <tr>\n",
       "      <th>2</th>\n",
       "      <td>Bad Guy</td>\n",
       "      <td>Billie Eilish</td>\n",
       "      <td>2019</td>\n",
       "      <td>Electropop</td>\n",
       "    </tr>\n",
       "    <tr>\n",
       "      <th>3</th>\n",
       "      <td>Rolling in the Deep</td>\n",
       "      <td>Adele</td>\n",
       "      <td>2011</td>\n",
       "      <td>Soul</td>\n",
       "    </tr>\n",
       "    <tr>\n",
       "      <th>4</th>\n",
       "      <td>Someone Like You</td>\n",
       "      <td>Adele</td>\n",
       "      <td>2011</td>\n",
       "      <td>Soul</td>\n",
       "    </tr>\n",
       "  </tbody>\n",
       "</table>\n",
       "</div>"
      ],
      "text/plain": [
       "            Song Title         Singer  Year       Genre\n",
       "1      Blinding Lights     The Weeknd  2019    Synthpop\n",
       "2              Bad Guy  Billie Eilish  2019  Electropop\n",
       "3  Rolling in the Deep          Adele  2011        Soul\n",
       "4     Someone Like You          Adele  2011        Soul"
      ]
     },
     "execution_count": 38,
     "metadata": {},
     "output_type": "execute_result"
    }
   ],
   "source": [
    "# Remove a row from a series\n",
    "\n",
    "\n",
    "# Remove a column from a dataframe\n",
    "\n",
    "songs_data = {\n",
    "    \"Song Title\": [\"Shape of You\", \"Blinding Lights\", \"Bad Guy\", \"Rolling in the Deep\", \"Someone Like You\"],\n",
    "    \"Singer\": [\"Ed Sheeran\", \"The Weeknd\", \"Billie Eilish\", \"Adele\", \"Adele\"],\n",
    "    \"Year\": [2017, 2019, 2019, 2011, 2011],\n",
    "    \"Genre\": [\"Pop\", \"Synthpop\", \"Electropop\", \"Soul\", \"Soul\"]\n",
    "}\n",
    "\n",
    "songs_df = pd.DataFrame(songs_data)\n",
    "\n",
    "songs_df.drop([\"Genre\", \"Year\"], axis=1)\n",
    "\n",
    "# Remove a row from a dataframe\n",
    "\n",
    "## Firstly, locate the element\n",
    "ed_sheeran_index = songs_df[(songs_df.Singer == \"Ed Sheeran\")].index\n",
    "\n",
    "## Secondly, remove the element\n",
    "songs_df.drop(ed_sheeran_index)"
   ]
  },
  {
   "cell_type": "code",
   "execution_count": null,
   "id": "8e53510e-760a-4f1a-8706-287f6dcfa05a",
   "metadata": {},
   "outputs": [],
   "source": []
  }
 ],
 "metadata": {
  "kernelspec": {
   "display_name": "Python 3 (ipykernel)",
   "language": "python",
   "name": "python3"
  },
  "language_info": {
   "codemirror_mode": {
    "name": "ipython",
    "version": 3
   },
   "file_extension": ".py",
   "mimetype": "text/x-python",
   "name": "python",
   "nbconvert_exporter": "python",
   "pygments_lexer": "ipython3",
   "version": "3.12.4"
  }
 },
 "nbformat": 4,
 "nbformat_minor": 5
}
