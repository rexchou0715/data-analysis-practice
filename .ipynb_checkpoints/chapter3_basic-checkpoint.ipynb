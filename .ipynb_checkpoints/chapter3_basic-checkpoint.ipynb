{
 "cells": [
  {
   "cell_type": "markdown",
   "id": "7a225e3a-4b4a-4046-b790-ee5cb8316869",
   "metadata": {},
   "source": [
    "# Chapter 3: Built-in Data Structures, Functions, and Files\n",
    "This chapter of the book discusses Python's built-in features for data manipulation, which are essential for effective data analysis, even when using powerful libraries like pandas and NumPy. The chapter focuses on *data structures, functions, and file objects.*"
   ]
  },
  {
   "cell_type": "markdown",
   "id": "3aadc6e7-4039-45da-ad69-9d42ac61671a",
   "metadata": {},
   "source": [
    "# Data Structure"
   ]
  },
  {
   "cell_type": "markdown",
   "id": "789a7377-e782-4100-b945-d26529700fa9",
   "metadata": {},
   "source": [
    "## Tuple\n",
    "### Coding Question:\n",
    "* Create a tuple named coordinates containing the latitude and longitude of a location of your choice (e.g., 34.0522, -118.2437). Then, write code to access and print only the latitude value from the tuple.\n",
    "\n",
    "### Conceptual Questions:\n",
    "* Why are tuples preferred over lists when you need to ensure that data remains unchanged?\n",
    "  * tuple does not support change of items, while list allows users to change items in the list\n",
    "* Explain the significance of immutability in the context of data integrity and program safety.\n",
    "  * I guess it ensures that data remains the same after being created?\n"
   ]
  },
  {
   "cell_type": "code",
   "execution_count": 3,
   "id": "95c362e3-c908-4b67-a377-8be5c31f8508",
   "metadata": {},
   "outputs": [],
   "source": [
    "example_tuple = (34.0522, -118.2437)  # latitude/longitude\n",
    "latitude = example_tuple[0]\n",
    "# print(latitude)\n",
    "\n",
    "# example_tuple[0] = 123  #TypeError: 'tuple' object does not support item assignment"
   ]
  },
  {
   "cell_type": "markdown",
   "id": "9d66b6d1-0a1b-464b-8309-01a2fca8aad3",
   "metadata": {},
   "source": [
    "## List\n",
    "\n",
    "## Coding Questions:\n",
    "* Create a list named colors with at least three different color names. Add a new color to the end of the list. Then, remove the second color from the list.\n",
    "* Write a Python program that takes a list of numbers as input and returns a new list containing only the even numbers from the input list.\n",
    "## Conceptual Questions:\n",
    "* How does the mutability of lists make them suitable for scenarios requiring data modification and updates?\n",
    "  * Mutability allows changing item values, so this is suitable for scenarios that data might need to be updated\n",
    "* What are the advantages and disadvantages of using lists compared to tuples?\n",
    "  * Pros: If the data is wrongly created or inputed, it can be corrected\n",
    "  * Cons: If the users accidently update the value, the value will be changed without any protection\n"
   ]
  },
  {
   "cell_type": "code",
   "execution_count": 6,
   "id": "abfd4a57-83ea-4f8f-88bd-fe418c9f0506",
   "metadata": {},
   "outputs": [
    {
     "name": "stdout",
     "output_type": "stream",
     "text": [
      "[0, 1, 2, 3, 4, 5, 6, 7, 8, 9]\n"
     ]
    }
   ],
   "source": [
    "colors = [\"red\", \"green\", \"blue\"]\n",
    "colors.append(\"white\")  # adda new color to the end of the list\n",
    "removed_color = colors.pop(1)  # remove the second color from the list\n",
    "# print(colors)"
   ]
  },
  {
   "cell_type": "code",
   "execution_count": 8,
   "id": "e3655b96-2127-4707-9a9a-0005c2254dc7",
   "metadata": {},
   "outputs": [
    {
     "name": "stdin",
     "output_type": "stream",
     "text": [
      "Enter number separated by spaces:  3 5 7 9 2 4 10000 0\n"
     ]
    },
    {
     "name": "stdout",
     "output_type": "stream",
     "text": [
      "[2, 4, 10000, 0]\n"
     ]
    }
   ],
   "source": [
    "def filter_even_numbers(numbers):\n",
    "    even_numbers = [num for num in numbers if num % 2 == 0]\n",
    "    return even_numbers\n",
    "\n",
    "input_list = [int(x) for x in input(\"Enter number separated by spaces: \").split()]  # allow users to input numbers and separate the input into a list\n",
    "result = filter_even_numbers(input_list)\n",
    "print(result)"
   ]
  },
  {
   "cell_type": "markdown",
   "id": "0d0788f8-c72e-47c1-a21a-f2005bc47a69",
   "metadata": {},
   "source": [
    "## Built-in Sequence Functions\n",
    "### Coding Questions:\n",
    "* Use the enumerate function to print the index and value of each item in a list of fruits.\n",
    "* Given two lists of the same length, use the zip function to create a new list of tuples, where each tuple contains the corresponding elements from the two input lists.\n",
    "### Conceptual Question:\n",
    "* Explain how using built-in sequence functions like enumerate, sorted, zip, and reversed can improve code readability and efficiency.\n",
    "  * *enumerate() function adds a counter to an iterable* and returns it as an *enumerate* object. It is useful when both the index and the value are needed in a loop\n",
    "  * *zip() function* allows for combining multiple iterables into tuples, creating a new iterable where corresponding elements from the input iterables are paird together. The output stops at the shortest iterable.\n",
    "\n",
    "#### Note: An iterable is any object that can be looped over(e.g. list, tuple, string, dict, set, etc.)"
   ]
  },
  {
   "cell_type": "code",
   "execution_count": 9,
   "id": "9020530a-d52b-4f41-bed0-25c66298bc3c",
   "metadata": {},
   "outputs": [
    {
     "name": "stdout",
     "output_type": "stream",
     "text": [
      "Index: 0: apple\n",
      "Index: 1: banana\n",
      "Index: 2: orange\n"
     ]
    }
   ],
   "source": [
    "fruits = [\"apple\", \"banana\", \"orange\"]\n",
    "\n",
    "for index, fruit in enumerate(fruits):\n",
    "    print(f\"Index: {index}: {fruit}\")"
   ]
  },
  {
   "cell_type": "code",
   "execution_count": 10,
   "id": "1e0e46de-affa-46a8-9fe5-6b128757e9a0",
   "metadata": {},
   "outputs": [
    {
     "name": "stdout",
     "output_type": "stream",
     "text": [
      "Rex, TW, 24\n",
      "Chou, TW, 21\n",
      "Dita, LV, 21\n"
     ]
    }
   ],
   "source": [
    "#  Attention! The outputs from zip stops at the 3rd element because one of the iterables is shorter than others\n",
    "names = [\"Rex\", \"Chou\", \"Dita\", \"Vigante\"]\n",
    "nationality = [\"TW\", \"TW\", \"LV\"]\n",
    "age = [24, 21, 21, 19]\n",
    "\n",
    "for name, nationality, age in zip(names, nationality, age):\n",
    "    print(f\"{name}, {nationality}, {age}\")"
   ]
  },
  {
   "cell_type": "markdown",
   "id": "945f0920-19f4-4c02-930c-22ce25e788e6",
   "metadata": {},
   "source": [
    "## dict\n",
    "### Coding Questions:\n",
    "* Create a dictionary named student that stores the name, age, and grade of a student. Print the student's age from the dictionary.\n",
    "* Write a function that takes a dictionary as input and returns a new dictionary with the keys and values swapped.\n",
    "  * ValueError: too many values to unpack (expected 2); The error occurs because I'm trying to unpack the elements of a dict directly as *for key, value in student_dict*, but this only iterates over the keys of the dictionary by default. To make the program iterates over key-value pairs, use the *.items()* method of the dictionary.\n",
    "  * Note: *student_dict.keys()* iterates over keys; *student_dict_values()* iterates over values\n",
    "### Conceptual Questions:\n",
    "* Why are dictionaries useful for representing data with key-value relationships, such as in configuration settings, database records, or user profiles?\n",
    "* What data types are permissible as keys in a dictionary? Explain the reasoning behind this restriction.\n"
   ]
  },
  {
   "cell_type": "code",
   "execution_count": 11,
   "id": "e5019ce4-d204-491e-98af-fd3ca48751d2",
   "metadata": {},
   "outputs": [],
   "source": [
    "def dict_value_swap(student_dict):\n",
    "    new_dict = {}\n",
    "    for key, value in student_dict.items():\n",
    "        new_dict[value] = key\n",
    "    return new_dict"
   ]
  },
  {
   "cell_type": "code",
   "execution_count": 12,
   "id": "71dc95ba-2280-4089-8785-de3e4690de95",
   "metadata": {},
   "outputs": [],
   "source": [
    "student = {\"name\": \"Rex\",\n",
    "           \"age\": 24,\n",
    "           \"grade\": 8.5}\n",
    "student_age = student['age']"
   ]
  },
  {
   "cell_type": "code",
   "execution_count": 13,
   "id": "80686879-5e92-4cda-819a-ae08880f1d44",
   "metadata": {},
   "outputs": [
    {
     "name": "stdout",
     "output_type": "stream",
     "text": [
      "{'Rex': 'name', 24: 'age', 8.5: 'grade'}\n"
     ]
    }
   ],
   "source": [
    "inverse_student_dict = dict_value_swap(student)\n",
    "print(inverse_student_dict)"
   ]
  },
  {
   "cell_type": "markdown",
   "id": "93acbe6a-9f1f-4f1d-8c27-937d698a68aa",
   "metadata": {},
   "source": [
    "## set\n",
    "\n",
    "### Introduction\n",
    "* unordered collection of *unique* elements, meaning it automatically removes duplicates\n",
    "\n",
    "### Coding Questions:\n",
    "\n",
    "* Create two sets, set1 and set2, containing some common and unique numbers. Use set operations to find:\n",
    "  * The union of the two sets\n",
    "  * The intersection of the two sets \n",
    "  * The elements in set1 but not in set2\n",
    "  * The elements in either of the set but not in both\n",
    "  * Check whether all elements of one set are included in another\n",
    "* Write a program that takes a list of words as input and returns a set containing only the unique words. \n",
    "\n",
    "### Conceptual Question:\n",
    "* When might you choose to use a set over a list or a dictionary?\n",
    "  * contain only unique value?"
   ]
  },
  {
   "cell_type": "code",
   "execution_count": 23,
   "id": "5d1c8fb6-0d47-4ade-b7b3-a402f172bb65",
   "metadata": {},
   "outputs": [
    {
     "name": "stdout",
     "output_type": "stream",
     "text": [
      "Set A: {1, 2, 3}\n",
      "Set B: {3, 4, 5}\n",
      "Union of A and B: {1, 2, 3, 4, 5}\n",
      "Intersection of A and B: {3}\n",
      "Elements in set_a but not in set_b: {1, 2}\n",
      "Elements in either of the sets, but not in both: {1, 2, 4, 5}\n",
      "Whether all elements in set_a are contained in set_b:  False\n"
     ]
    }
   ],
   "source": [
    "set_a = {1, 2, 3}\n",
    "set_b = {3, 4, 5}\n",
    "\n",
    "# union_set = set_a | set_b\n",
    "union_set = set_a.union(set_b)\n",
    "\n",
    "print(\"Set A:\", set_a)\n",
    "print(\"Set B:\", set_b)\n",
    "print(\"Union of A and B:\", union_set)\n",
    "\n",
    "# intersection_set = set_a & set_b\n",
    "intersection_set = set_a.intersection(set_b)\n",
    "\n",
    "print(\"Intersection of A and B:\", intersection_set)\n",
    "\n",
    "# difference_set = set_a - set_b\n",
    "difference_set = set_a.difference(set_b)\n",
    "\n",
    "print(\"Elements in set_a but not in set_b:\", difference_set)\n",
    "\n",
    "symmetric_difference = set_a ^ set_b\n",
    "print(\"Elements in either of the sets, but not in both:\", symmetric_difference)\n",
    "\n",
    "is_subset = set_a <= set_b\n",
    "print(\"Whether all elements in set_a are contained in set_b: \", is_subset)"
   ]
  },
  {
   "cell_type": "code",
   "execution_count": 28,
   "id": "0ec8b803-ecff-4f09-8d3f-6cc604358b51",
   "metadata": {},
   "outputs": [
    {
     "data": {
      "text/plain": [
       "{'Hi', 'Hi I AM', 'Hi I am'}"
      ]
     },
     "execution_count": 28,
     "metadata": {},
     "output_type": "execute_result"
    }
   ],
   "source": [
    "def set_convertor(ls:list):\n",
    "    return set(ls)\n",
    "\n",
    "example_list = [\"Hi\", \"Hi\", \"Hi I am\", \"Hi I am\", \"Hi I AM\"]\n",
    "set_convertor(example_list)"
   ]
  },
  {
   "attachments": {
    "6d304891-5bd0-4c7d-8eb1-db6788412eeb.png": {
     "image/png": "[encoded data removed]"
    }
   },
   "cell_type": "markdown",
   "id": "7af44519-55bd-4883-9589-ffe8cff9cd97",
   "metadata": {},
   "source": [
    "## List, Set, and Dict Comprehensions\n",
    "List and dict comprehensions are concise ways to create lists or dictionaries in Python using a single line of code, often involving a for loop and optional conditional logic. This enhance code readability and reduce the need for boilerplate loops, making them ideal for compact and expressive transformations.\n",
    "\n",
    "The structure of the list comprehension (source: https://www.freecodecamp.org/news/list-comprehension-in-python/) \n",
    "![image.png](attachment:6d304891-5bd0-4c7d-8eb1-db6788412eeb.png)\n",
    "\n",
    "### Coding Questions:\n",
    "\n",
    "* Use a list comprehension to create a list of the squares of all even numbers from 1 to 10. \n",
    "* Use a dictionary comprehension to create a dictionary that maps the numbers from 1 to 5 to their corresponding Roman numeral representations (e.g., 1: \"I\", 2: \"II\", etc.).\n",
    "  * How to create a dictionary through the dict comprehension? *{key: value for loop}*\n",
    "\n",
    "### Conceptual Question:\n",
    "\n",
    "* How do comprehensions enhance code conciseness and expressiveness compared to traditional loop-based approaches for creating lists, sets, and dictionaries?\n",
    "  * Pros\n",
    "      * Conciseness: It simplifies the code by reducing multiple lines of loops into a single, readable line\n",
    "      * Performance: It is slightly faster than tranditional loops in many cases\n",
    "      * Readability: Provide a clean way to describe transformations or filtering logic\n",
    "  * Cons\n",
    "    * Complexity for Beginners\n",
    "    * Limited Debugging: Harder to debug compared to traditional loop because of lack of intermediate steps"
   ]
  },
  {
   "cell_type": "code",
   "execution_count": 34,
   "id": "805f3b94-9057-4566-8ede-4af9cdbcf0d5",
   "metadata": {},
   "outputs": [
    {
     "name": "stdout",
     "output_type": "stream",
     "text": [
      "[4, 16, 36, 64, 100]\n"
     ]
    }
   ],
   "source": [
    "squared_even_number = [i ** 2 for i in range(1, 11) if i % 2 == 0]\n",
    "print(squared_even_number)"
   ]
  },
  {
   "cell_type": "code",
   "execution_count": 36,
   "id": "030d9e69-0156-4daf-9b6e-5b4b2215ffd6",
   "metadata": {},
   "outputs": [],
   "source": [
    "roman_numerals = [\"I\", \"II\", \"III\", \"IV\", \"V\"]\n",
    "num_to_roman = {i: roman_numerals[i - 1] for i in range(1, 6)}"
   ]
  },
  {
   "cell_type": "markdown",
   "id": "33916613-3fdd-42d9-892d-49753705b5e5",
   "metadata": {},
   "source": [
    "# Functions"
   ]
  },
  {
   "cell_type": "markdown",
   "id": "e122e995-3bec-45dc-96ca-95264d675d7a",
   "metadata": {},
   "source": [
    "## Namespaces, Scope, and Local Functions\n",
    "\n",
    "### Introduction\n",
    "A nested function in Python is *a function defined inside another function*. It can access variables in the containing(enclosing) function's scope and it can be used to hide implementation details or group related functions (e.g. Inventory Management - add_item(), remove_item. These functions can be grouped as they are relevant).\n",
    "\n",
    "### Coding Question:\n",
    "\n",
    "* Define a function called calculate_area that takes the length and width of a rectangle as arguments and returns its area. Within the function, define a nested function called is_square that checks if the rectangle is a square and prints a message accordingly.\n",
    "\n",
    "### Conceptual Questions:\n",
    "\n",
    "* Explain the concept of variable scope in Python, differentiating between local and global scope. \n",
    "What are the potential benefits and drawbacks of using nested functions?\n",
    "  * Pros\n",
    "    * Encapsulation: Allows related functionality to be grouped together, improving code organization and readability. (E.g. calculate area and check whether it is a square or not are two relevant functions)\n",
    "    * Scope Management: Nested functions can *access variables from the parent function*, providing a clean way to manage local data.\n",
    "  * Cons\n",
    "    * Reduced Flexibility: The nexted functions are accessible only from within the enclosing function"
   ]
  },
  {
   "cell_type": "code",
   "execution_count": 42,
   "id": "7c88063a-e446-40e7-a8f6-756e467ee056",
   "metadata": {},
   "outputs": [
    {
     "name": "stdout",
     "output_type": "stream",
     "text": [
      "It is a rectangle.\n",
      "Its area is 50.\n"
     ]
    }
   ],
   "source": [
    "def calculate_area(length, width):\n",
    "    def is_square():\n",
    "        return length == width\n",
    "\n",
    "    shape_type = \"square\" if is_square() else \"rectangle\"\n",
    "    print(f\"It is a {shape_type}.\")\n",
    "   \n",
    "    return length * width\n",
    "\n",
    "area = calculate_area(10, 5)\n",
    "print(f\"Its area is {area}.\")"
   ]
  },
  {
   "cell_type": "markdown",
   "id": "7d9a0131-45fd-4374-9ae1-131204211d12",
   "metadata": {},
   "source": [
    "## Returning Multiple Values\n",
    "### Coding Question:\n",
    "\n",
    "* Write a function that calculates the sum, difference, product, and quotient of two numbers and returns all four results. \n",
    "\n",
    "### Conceptual Question:\n",
    "\n",
    "* How does the ability to return multiple values from a function improve code organization and readability?\n",
    "  * Simplifies Function Interfaces: Allow a function to serve as a compact and clear interface for complex operations, reducing the needs for multiple function calls or parameters\n",
    "  * Enhances Code Readibility: Because the similar information are grouped together, it avoids splitting information across several variables or functions."
   ]
  },
  {
   "cell_type": "code",
   "execution_count": 52,
   "id": "b80435fd-d79f-49d5-be4d-1a1f7cd22ba6",
   "metadata": {},
   "outputs": [
    {
     "name": "stdout",
     "output_type": "stream",
     "text": [
      "(10, 10, 0, inf)\n"
     ]
    }
   ],
   "source": [
    "def math_operation(num1, num2):\n",
    "    sum_result = num1 + num2\n",
    "    difference_result = num1 - num2\n",
    "    product_result = num1 * num2\n",
    "    quotient_result = num1 / num2 if num2 != 0 else float(\"inf\") # handle division by zero; positive infinity\n",
    "    return (sum_result, difference_result, product_result, quotient_result)\n",
    "results = math_operation(10, 0)\n",
    "print(results)"
   ]
  },
  {
   "cell_type": "markdown",
   "id": "3c872b07-5c50-4859-b2a4-40d2e2e370de",
   "metadata": {},
   "source": [
    "## Functions Are Objects\n",
    "### Coding Question:\n",
    "\n",
    "* Create a list of functions, each performing a different mathematical operation (e.g., addition, subtraction, multiplication). Use a loop to iterate through the list of functions, applying each function to a set of input numbers and printing the results.\n",
    "\n",
    "### Conceptual Question:\n",
    "\n",
    "* How does treating functions as first-class objects enhance the flexibility and power of Python as a programming language? "
   ]
  },
  {
   "cell_type": "markdown",
   "id": "30bc3ecc-60b0-4b51-ba14-c0474922fb3c",
   "metadata": {},
   "source": [
    "## Anonymous (Lambda) Functions\n",
    "### Coding Question:\n",
    "\n",
    "* Use a lambda function to square a number. Assign the lambda function to a variable and call it with an input value. \n",
    "\n",
    "### Conceptual Question:\n",
    "\n",
    "* When might you choose to use a lambda function instead of a regular named function? "
   ]
  },
  {
   "cell_type": "code",
   "execution_count": null,
   "id": "c59c62eb-9f60-4729-af8b-8b16d564d53a",
   "metadata": {},
   "outputs": [],
   "source": []
  }
 ],
 "metadata": {
  "kernelspec": {
   "display_name": "Python 3 (ipykernel)",
   "language": "python",
   "name": "python3"
  },
  "language_info": {
   "codemirror_mode": {
    "name": "ipython",
    "version": 3
   },
   "file_extension": ".py",
   "mimetype": "text/x-python",
   "name": "python",
   "nbconvert_exporter": "python",
   "pygments_lexer": "ipython3",
   "version": "3.12.4"
  }
 },
 "nbformat": 4,
 "nbformat_minor": 5
}
