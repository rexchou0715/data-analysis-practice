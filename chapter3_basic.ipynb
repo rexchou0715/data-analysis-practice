{
 "cells": [
  {
   "cell_type": "markdown",
   "id": "7a225e3a-4b4a-4046-b790-ee5cb8316869",
   "metadata": {},
   "source": [
    "# Chapter 3: Built-in Data Structures, Functions, and Files\n",
    "This chapter of the book discusses Python's built-in features for data manipulation, which are essential for effective data analysis, even when using powerful libraries like pandas and NumPy. The chapter focuses on *data structures, functions, and file objects.*"
   ]
  },
  {
   "cell_type": "markdown",
   "id": "789a7377-e782-4100-b945-d26529700fa9",
   "metadata": {},
   "source": [
    "## Tuple\n",
    "### Coding Question:\n",
    "* Create a tuple named coordinates containing the latitude and longitude of a location of your choice (e.g., 34.0522, -118.2437). Then, write code to access and print only the latitude value from the tuple.\n",
    "\n",
    "### Conceptual Questions:\n",
    "* Why are tuples preferred over lists when you need to ensure that data remains unchanged?\n",
    "  * tuple does not support change of items, while list allows users to change items in the list\n",
    "* Explain the significance of immutability in the context of data integrity and program safety.\n",
    "  * I guess it ensures that data remains the same after being created?\n"
   ]
  },
  {
   "cell_type": "code",
   "execution_count": 3,
   "id": "95c362e3-c908-4b67-a377-8be5c31f8508",
   "metadata": {},
   "outputs": [],
   "source": [
    "example_tuple = (34.0522, -118.2437)  # latitude/longitude\n",
    "latitude = example_tuple[0]\n",
    "# print(latitude)\n",
    "\n",
    "# example_tuple[0] = 123  #TypeError: 'tuple' object does not support item assignment"
   ]
  },
  {
   "cell_type": "markdown",
   "id": "9d66b6d1-0a1b-464b-8309-01a2fca8aad3",
   "metadata": {},
   "source": [
    "## List\n",
    "\n",
    "## Coding Questions:\n",
    "* Create a list named colors with at least three different color names. Add a new color to the end of the list. Then, remove the second color from the list.\n",
    "* Write a Python program that takes a list of numbers as input and returns a new list containing only the even numbers from the input list.\n",
    "## Conceptual Questions:\n",
    "* How does the mutability of lists make them suitable for scenarios requiring data modification and updates?\n",
    "  * Mutability allows changing item values, so this is suitable for scenarios that data might need to be updated\n",
    "* What are the advantages and disadvantages of using lists compared to tuples?\n",
    "  * Pros: If the data is wrongly created or inputed, it can be corrected\n",
    "  * Cons: If the users accidently update the value, the value will be changed without any protection\n"
   ]
  },
  {
   "cell_type": "code",
   "execution_count": 6,
   "id": "abfd4a57-83ea-4f8f-88bd-fe418c9f0506",
   "metadata": {},
   "outputs": [
    {
     "name": "stdout",
     "output_type": "stream",
     "text": [
      "[0, 1, 2, 3, 4, 5, 6, 7, 8, 9]\n"
     ]
    }
   ],
   "source": [
    "colors = [\"red\", \"green\", \"blue\"]\n",
    "colors.append(\"white\")  # adda new color to the end of the list\n",
    "removed_color = colors.pop(1)  # remove the second color from the list\n",
    "# print(colors)"
   ]
  },
  {
   "cell_type": "code",
   "execution_count": 8,
   "id": "e3655b96-2127-4707-9a9a-0005c2254dc7",
   "metadata": {},
   "outputs": [
    {
     "name": "stdin",
     "output_type": "stream",
     "text": [
      "Enter number separated by spaces:  3 5 7 9 2 4 10000 0\n"
     ]
    },
    {
     "name": "stdout",
     "output_type": "stream",
     "text": [
      "[2, 4, 10000, 0]\n"
     ]
    }
   ],
   "source": [
    "def filter_even_numbers(numbers):\n",
    "    even_numbers = [num for num in numbers if num % 2 == 0]\n",
    "    return even_numbers\n",
    "\n",
    "input_list = [int(x) for x in input(\"Enter number separated by spaces: \").split()]  # allow users to input numbers and separate the input into a list\n",
    "result = filter_even_numbers(input_list)\n",
    "print(result)"
   ]
  },
  {
   "cell_type": "markdown",
   "id": "0d0788f8-c72e-47c1-a21a-f2005bc47a69",
   "metadata": {},
   "source": [
    "## Built-in Sequence Functions\n",
    "### Coding Questions:\n",
    "* Use the enumerate function to print the index and value of each item in a list of fruits.\n",
    "* Given two lists of the same length, use the zip function to create a new list of tuples, where each tuple contains the corresponding elements from the two input lists.\n",
    "### Conceptual Question:\n",
    "* Explain how using built-in sequence functions like enumerate, sorted, zip, and reversed can improve code readability and efficiency.\n",
    "  * *enumerate() function adds a counter to an iterable* and returns it as an *enumerate* object. It is useful when both the index and the value are needed in a loop\n",
    "  * *zip() function* allows for combining multiple iterables into tuples, creating a new iterable where corresponding elements from the input iterables are paird together. The output stops at the shortest iterable.\n",
    "\n",
    "#### Note: An iterable is any object that can be looped over(e.g. list, tuple, string, dict, set, etc.)"
   ]
  },
  {
   "cell_type": "code",
   "execution_count": 9,
   "id": "9020530a-d52b-4f41-bed0-25c66298bc3c",
   "metadata": {},
   "outputs": [
    {
     "name": "stdout",
     "output_type": "stream",
     "text": [
      "Index: 0: apple\n",
      "Index: 1: banana\n",
      "Index: 2: orange\n"
     ]
    }
   ],
   "source": [
    "fruits = [\"apple\", \"banana\", \"orange\"]\n",
    "\n",
    "for index, fruit in enumerate(fruits):\n",
    "    print(f\"Index: {index}: {fruit}\")"
   ]
  },
  {
   "cell_type": "code",
   "execution_count": 10,
   "id": "1e0e46de-affa-46a8-9fe5-6b128757e9a0",
   "metadata": {},
   "outputs": [
    {
     "name": "stdout",
     "output_type": "stream",
     "text": [
      "Rex, TW, 24\n",
      "Chou, TW, 21\n",
      "Dita, LV, 21\n"
     ]
    }
   ],
   "source": [
    "#  Attention! The outputs from zip stops at the 3rd element because one of the iterables is shorter than others\n",
    "names = [\"Rex\", \"Chou\", \"Dita\", \"Vigante\"]\n",
    "nationality = [\"TW\", \"TW\", \"LV\"]\n",
    "age = [24, 21, 21, 19]\n",
    "\n",
    "for name, nationality, age in zip(names, nationality, age):\n",
    "    print(f\"{name}, {nationality}, {age}\")"
   ]
  },
  {
   "cell_type": "markdown",
   "id": "945f0920-19f4-4c02-930c-22ce25e788e6",
   "metadata": {},
   "source": [
    "## dict\n",
    "### Coding Questions:\n",
    "* Create a dictionary named student that stores the name, age, and grade of a student. Print the student's age from the dictionary.\n",
    "* Write a function that takes a dictionary as input and returns a new dictionary with the keys and values swapped.\n",
    "### Conceptual Questions:\n",
    "* Why are dictionaries useful for representing data with key-value relationships, such as in configuration settings, database records, or user profiles?\n",
    "* What data types are permissible as keys in a dictionary? Explain the reasoning behind this restriction.\n"
   ]
  },
  {
   "cell_type": "code",
   "execution_count": null,
   "id": "71dc95ba-2280-4089-8785-de3e4690de95",
   "metadata": {},
   "outputs": [],
   "source": [
    "student"
   ]
  }
 ],
 "metadata": {
  "kernelspec": {
   "display_name": "Python 3 (ipykernel)",
   "language": "python",
   "name": "python3"
  },
  "language_info": {
   "codemirror_mode": {
    "name": "ipython",
    "version": 3
   },
   "file_extension": ".py",
   "mimetype": "text/x-python",
   "name": "python",
   "nbconvert_exporter": "python",
   "pygments_lexer": "ipython3",
   "version": "3.12.4"
  }
 },
 "nbformat": 4,
 "nbformat_minor": 5
}
